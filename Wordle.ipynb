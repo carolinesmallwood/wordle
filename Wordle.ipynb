{
 "cells": [
  {
   "cell_type": "markdown",
   "id": "e203e74b",
   "metadata": {},
   "source": [
    "To fix:\n",
    "    dictionary is too small"
   ]
  },
  {
   "cell_type": "code",
   "execution_count": 1,
   "id": "daef643b",
   "metadata": {},
   "outputs": [],
   "source": [
    "import pandas as pd\n",
    "import random\n",
    "import numpy as np\n",
    "import matplotlib.pyplot as plt\n",
    "from collections import Counter"
   ]
  },
  {
   "cell_type": "code",
   "execution_count": 2,
   "id": "01e24256",
   "metadata": {},
   "outputs": [],
   "source": [
    "#werds = pd.read_csv('/usr/share/dict/words')"
   ]
  },
  {
   "cell_type": "code",
   "execution_count": 3,
   "id": "55714c0a",
   "metadata": {},
   "outputs": [],
   "source": [
    "word_list = []\n",
    "with open(\"2of12id.txt\") as f:\n",
    "    s = f.readline()\n",
    "    while (s):\n",
    "        s_list = s.split()\n",
    "        #print(s_list[0])\n",
    "        if s_list[0][0].isalpha():\n",
    "            word_list.append(s_list[0])\n",
    "        s = f.readline()"
   ]
  },
  {
   "cell_type": "code",
   "execution_count": 4,
   "id": "aaf00472",
   "metadata": {},
   "outputs": [],
   "source": [
    "words = pd.DataFrame(word_list).drop_duplicates()\n",
    "words.columns=['word']\n",
    "\n",
    "words['word'] = words['word'].apply(str.upper)\n",
    "words['length'] = words['word'].apply(len)\n",
    "words['used'] = False\n",
    "\n",
    "words = words.sort_values('length').reset_index(drop=True)\n",
    "\n",
    "words = words.reset_index()"
   ]
  },
  {
   "cell_type": "code",
   "execution_count": 5,
   "id": "79eab810",
   "metadata": {},
   "outputs": [],
   "source": [
    "words['word'] = words['word'].astype('str')"
   ]
  },
  {
   "cell_type": "code",
   "execution_count": 7,
   "id": "c555c620",
   "metadata": {},
   "outputs": [],
   "source": [
    "#read in list of common words, create length column, drop all words shorter than 5 letters\n",
    "\n",
    "# common_words = pd.read_csv('common_words.csv', skiprows=1, names=['word'])\n",
    "# common_words['word'] = common_words['word'].str.upper()\n",
    "# common_words['length'] = common_words['word'].apply(len)\n",
    "# common_words = common_words[common_words['length'] >= 5].sort_values('word')"
   ]
  },
  {
   "cell_type": "code",
   "execution_count": 8,
   "id": "a463a1f1",
   "metadata": {},
   "outputs": [],
   "source": [
    "black = '\\033[30m'\n",
    "grey = '\\033[90m'\n",
    "green = '\\033[32m'\n",
    "yellow = '\\033[93m'"
   ]
  },
  {
   "cell_type": "code",
   "execution_count": 9,
   "id": "a51f0e6f",
   "metadata": {},
   "outputs": [],
   "source": [
    "def pick_random_word(l):\n",
    "    \n",
    "    #get index of first word of that length\n",
    "    beg = words[words.length == l]['index'].idxmin()\n",
    "    end = words[words.length == l]['index'].idxmax() + 1\n",
    "    \n",
    "    index = random.randint(beg, end)\n",
    "    \n",
    "    while (words.iloc[index].used):\n",
    "        index = random.randint(beg, end)\n",
    "        \n",
    "    words.iloc[index, 3] = True\n",
    "    return words.iloc[index]['word']"
   ]
  },
  {
   "cell_type": "code",
   "execution_count": 10,
   "id": "47213587",
   "metadata": {},
   "outputs": [],
   "source": [
    "def get_attempt(l):\n",
    "    guess = input(black + 'Guess a ' + str(l) + '-character word:')\n",
    "    \n",
    "    if(len(guess) != l):\n",
    "        return -1\n",
    "    \n",
    "    while (guess.upper() not in words['word'].values):\n",
    "        guess = input(black + \"That word isn't in our dictionary. Try again:\")\n",
    "    return guess"
   ]
  },
  {
   "cell_type": "code",
   "execution_count": 11,
   "id": "e13f12ad",
   "metadata": {},
   "outputs": [],
   "source": [
    "def evaluate_attempt(guess, word, alphabet):\n",
    "\n",
    "    guess_colors = ['k'] * len(word)\n",
    "    count = Counter(word)\n",
    "    \n",
    "    #first pass - determine green letters, decrement their counts\n",
    "    for i in range(0, len(word)):\n",
    "        if guess[i] == word[i]:\n",
    "            guess_colors[i] = 'g'\n",
    "            count[word[i]] -= 1\n",
    "            \n",
    "            \n",
    "    for i in range(0, len(word)):\n",
    "        #if letter is already green, skip\n",
    "        if guess_colors[i] == 'g':\n",
    "            continue\n",
    "        elif guess[i] in count:\n",
    "            if count[guess[i]] > 0:\n",
    "                guess_colors[i] = 'y'\n",
    "                count[guess[i]] -= 1\n",
    "        else:\n",
    "            if guess[i] in alphabet:\n",
    "                alphabet.remove(guess[i])\n",
    "                \n",
    "    return guess_colors, alphabet"
   ]
  },
  {
   "cell_type": "code",
   "execution_count": 12,
   "id": "bea6eab0",
   "metadata": {},
   "outputs": [],
   "source": [
    "def display_attempts(guess_array, color_array, a, l):\n",
    "    disp = \"\"\n",
    "    for i in range(a+1):\n",
    "        for j in range(l):\n",
    "            if color_array[i,j] == 'y':\n",
    "                disp += \" \" + yellow + guess_array[i,j] \n",
    "            elif color_array[i,j] == 'g':\n",
    "                disp += \" \" + green + guess_array[i,j]\n",
    "            else:\n",
    "                disp += \" \" + black + guess_array[i,j]\n",
    "        \n",
    "        disp += \"\\n\"\n",
    "    \n",
    "    return disp"
   ]
  },
  {
   "cell_type": "code",
   "execution_count": 13,
   "id": "7e69accf",
   "metadata": {},
   "outputs": [],
   "source": [
    "def play():\n",
    "    \n",
    "    l = input(\"Choose Wordle length between 5 and 10:\")\n",
    "    \n",
    "    if int(l) not in range(5, 11):\n",
    "        l = input(\"Length must be integer between 5 and 10. Try again:\")\n",
    "    \n",
    "    if int(l) not in range(5, 11):\n",
    "        print(\"Must rerun game\")\n",
    "        return\n",
    "    \n",
    "    target_len = int(l)\n",
    "    \n",
    "    target = pick_random_word(target_len)\n",
    "    \n",
    "    target_arr = np.array(list(target.upper()))\n",
    "    \n",
    "    attempt = 0\n",
    "    guesses = np.empty([6, len(target)], dtype=str)\n",
    "    colors = np.empty([6, len(target)], dtype=str)\n",
    "    alphabet = list(map(chr, range(65, 91)))\n",
    "    \n",
    "    while (attempt < 6):\n",
    "        \n",
    "        g = get_attempt(target_len)\n",
    "        \n",
    "        if (g == -1):\n",
    "            print(black + \"You can't follow directions!\")\n",
    "            return\n",
    "            \n",
    "        g = g.upper()\n",
    "        \n",
    "        c, alphabet = evaluate_attempt(g.upper(), target, alphabet)\n",
    "        \n",
    "        guesses[attempt] = list(g)\n",
    "        colors[attempt] = c\n",
    "        \n",
    "        print(display_attempts(guesses, colors, attempt, target_len))\n",
    "        \n",
    "        if (g.upper() == target):\n",
    "            print(black + \"Congratulations! The wordle was \" + target + \"!\")\n",
    "            return\n",
    "        \n",
    "        alph = black + \"\"\n",
    "        for char in alphabet:\n",
    "            alph += \" \" + char\n",
    "        print(alph)\n",
    "        \n",
    "        attempt += 1\n",
    "        \n",
    "    print(black + \"Better luck next time, the wordle was \" + target + \"!\")\n",
    "    "
   ]
  },
  {
   "cell_type": "code",
   "execution_count": 14,
   "id": "e597da89",
   "metadata": {},
   "outputs": [
    {
     "name": "stdout",
     "output_type": "stream",
     "text": [
      "Choose Wordle length between 5 and 10:5\n",
      "Guess a 5-character word:treat\n",
      " \u001b[30mT \u001b[30mR \u001b[93mE \u001b[30mA \u001b[30mT\n",
      "\n",
      "\u001b[30m B C D E F G H I J K L M N O P Q S U V W X Y Z\n",
      "Guess a 5-character word:shine\n",
      " \u001b[30mT \u001b[30mR \u001b[93mE \u001b[30mA \u001b[30mT\n",
      " \u001b[30mS \u001b[30mH \u001b[30mI \u001b[93mN \u001b[93mE\n",
      "\n",
      "\u001b[30m B C D E F G J K L M N O P Q U V W X Y Z\n",
      "Guess a 5-character word:pouch\n",
      " \u001b[30mT \u001b[30mR \u001b[93mE \u001b[30mA \u001b[30mT\n",
      " \u001b[30mS \u001b[30mH \u001b[30mI \u001b[93mN \u001b[93mE\n",
      " \u001b[30mP \u001b[93mO \u001b[30mU \u001b[30mC \u001b[30mH\n",
      "\n",
      "\u001b[30m B D E F G J K L M N O Q V W X Y Z\n",
      "Guess a 5-character word:money\n",
      " \u001b[30mT \u001b[30mR \u001b[93mE \u001b[30mA \u001b[30mT\n",
      " \u001b[30mS \u001b[30mH \u001b[30mI \u001b[93mN \u001b[93mE\n",
      " \u001b[30mP \u001b[93mO \u001b[30mU \u001b[30mC \u001b[30mH\n",
      " \u001b[93mM \u001b[93mO \u001b[93mN \u001b[93mE \u001b[30mY\n",
      "\n",
      "\u001b[30m B D E F G J K L M N O Q V W X Z\n",
      "Guess a 5-character word:lemon\n",
      " \u001b[30mT \u001b[30mR \u001b[93mE \u001b[30mA \u001b[30mT\n",
      " \u001b[30mS \u001b[30mH \u001b[30mI \u001b[93mN \u001b[93mE\n",
      " \u001b[30mP \u001b[93mO \u001b[30mU \u001b[30mC \u001b[30mH\n",
      " \u001b[93mM \u001b[93mO \u001b[93mN \u001b[93mE \u001b[30mY\n",
      " \u001b[32mL \u001b[32mE \u001b[32mM \u001b[32mO \u001b[32mN\n",
      "\n",
      "\u001b[30mCongratulations! The wordle was LEMON!\n"
     ]
    }
   ],
   "source": [
    "play()"
   ]
  },
  {
   "cell_type": "code",
   "execution_count": null,
   "id": "1f6c7c02",
   "metadata": {},
   "outputs": [],
   "source": [
    "B_XO_"
   ]
  }
 ],
 "metadata": {
  "kernelspec": {
   "display_name": "Python 3 (ipykernel)",
   "language": "python",
   "name": "python3"
  },
  "language_info": {
   "codemirror_mode": {
    "name": "ipython",
    "version": 3
   },
   "file_extension": ".py",
   "mimetype": "text/x-python",
   "name": "python",
   "nbconvert_exporter": "python",
   "pygments_lexer": "ipython3",
   "version": "3.9.10"
  }
 },
 "nbformat": 4,
 "nbformat_minor": 5
}
